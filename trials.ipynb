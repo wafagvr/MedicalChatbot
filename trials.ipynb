{
 "cells": [
  {
   "cell_type": "code",
   "execution_count": 2,
   "id": "97775136-3671-41d0-837d-5b04c38ce378",
   "metadata": {},
   "outputs": [
    {
     "name": "stdout",
     "output_type": "stream",
     "text": [
      "OK!\n"
     ]
    }
   ],
   "source": [
    "print(\"OK!\")"
   ]
  },
  {
   "cell_type": "code",
   "execution_count": 30,
   "id": "bcfc40aa",
   "metadata": {},
   "outputs": [],
   "source": [
    "from langchain import PromptTemplate\n",
    "from langchain.chains import RetrievalQA\n",
    "from langchain_huggingface import HuggingFaceEmbeddings\n",
    "from langchain.document_loaders import PyPDFLoader, DirectoryLoader\n",
    "from langchain_text_splitters import RecursiveCharacterTextSplitter\n",
    "from langchain.prompts import PromptTemplate\n",
    "from langchain.llms import CTransformers\n"
   ]
  },
  {
   "cell_type": "code",
   "execution_count": 31,
   "id": "50e97c4c",
   "metadata": {},
   "outputs": [],
   "source": [
    "PINECONE_API_KEY=\"6f043c11-9675-47ee-b7ab-24161ed91eee\"\n",
    "PINECONE_API_ENV=\"aws-us-east-1\""
   ]
  },
  {
   "cell_type": "code",
   "execution_count": 32,
   "id": "54d23e25",
   "metadata": {},
   "outputs": [],
   "source": [
    "#Extract data from the pdf file\n",
    "def load_pdf(data):\n",
    "    loader = DirectoryLoader(data, glob=\"*.pdf\", loader_cls=PyPDFLoader)\n",
    "    documents = loader.load()\n",
    "    return documents\n"
   ]
  },
  {
   "cell_type": "code",
   "execution_count": 33,
   "id": "80e227df",
   "metadata": {},
   "outputs": [],
   "source": [
    "extracted_data = load_pdf(\"data/\")"
   ]
  },
  {
   "cell_type": "code",
   "execution_count": 7,
   "id": "530070f7",
   "metadata": {},
   "outputs": [],
   "source": [
    "#extracted_data"
   ]
  },
  {
   "cell_type": "code",
   "execution_count": 34,
   "id": "8c5a97e6",
   "metadata": {},
   "outputs": [],
   "source": [
    "def text_split(extracted_data):\n",
    "    text_splitter=RecursiveCharacterTextSplitter(chunk_size=500, chunk_overlap=20)\n",
    "    text_chunks = text_splitter.split_documents(extracted_data)\n",
    "    return text_chunks\n"
   ]
  },
  {
   "cell_type": "code",
   "execution_count": 35,
   "id": "367786af",
   "metadata": {},
   "outputs": [
    {
     "name": "stdout",
     "output_type": "stream",
     "text": [
      "length of the text chunk :  7020\n"
     ]
    }
   ],
   "source": [
    "text_chunk = text_split(extracted_data)\n",
    "print(\"length of the text chunk : \" ,len(text_chunk))"
   ]
  },
  {
   "cell_type": "code",
   "execution_count": 10,
   "id": "4c92f9f2",
   "metadata": {},
   "outputs": [],
   "source": [
    "#text_chunk"
   ]
  },
  {
   "cell_type": "code",
   "execution_count": 36,
   "id": "9ac0c024",
   "metadata": {},
   "outputs": [],
   "source": [
    "#Download Hugging Face Embeddings\n",
    "def download_hugging_face_embedding():\n",
    "    embeddings = HuggingFaceEmbeddings(model_name=\"sentence-transformers/all-MiniLM-L6-v2\")\n",
    "    return embeddings\n"
   ]
  },
  {
   "cell_type": "code",
   "execution_count": 37,
   "id": "77fba31c",
   "metadata": {},
   "outputs": [],
   "source": [
    "embeddings = download_hugging_face_embedding()"
   ]
  },
  {
   "cell_type": "code",
   "execution_count": 38,
   "id": "14e33943",
   "metadata": {},
   "outputs": [
    {
     "data": {
      "text/plain": [
       "HuggingFaceEmbeddings(client=SentenceTransformer(\n",
       "  (0): Transformer({'max_seq_length': 256, 'do_lower_case': False}) with Transformer model: BertModel \n",
       "  (1): Pooling({'word_embedding_dimension': 384, 'pooling_mode_cls_token': False, 'pooling_mode_mean_tokens': True, 'pooling_mode_max_tokens': False, 'pooling_mode_mean_sqrt_len_tokens': False, 'pooling_mode_weightedmean_tokens': False, 'pooling_mode_lasttoken': False, 'include_prompt': True})\n",
       "  (2): Normalize()\n",
       "), model_name='sentence-transformers/all-MiniLM-L6-v2', cache_folder=None, model_kwargs={}, encode_kwargs={}, multi_process=False, show_progress=False)"
      ]
     },
     "execution_count": 38,
     "metadata": {},
     "output_type": "execute_result"
    }
   ],
   "source": [
    "embeddings"
   ]
  },
  {
   "cell_type": "code",
   "execution_count": 39,
   "id": "e70c1657",
   "metadata": {},
   "outputs": [
    {
     "name": "stdout",
     "output_type": "stream",
     "text": [
      "384\n"
     ]
    }
   ],
   "source": [
    "query_result=embeddings.embed_query(\"Hello World\")\n",
    "print(len(query_result))\n",
    "#query_result"
   ]
  },
  {
   "cell_type": "code",
   "execution_count": 41,
   "id": "29303c5f",
   "metadata": {},
   "outputs": [],
   "source": [
    "\n",
    "#Initializing the Pinecone\n",
    "from pinecone import Pinecone, ServerlessSpec\n",
    "\n",
    "from langchain.vectorstores import Pinecone as PC\n",
    "\n",
    "import os\n",
    "os.environ['PINECONE_API_KEY'] = PINECONE_API_KEY\n",
    "pc = Pinecone(api_key=PINECONE_API_KEY)\n",
    "index_name=\"medical-chatbot\"\n",
    "index = pc.Index(index_name)\n",
    "#pinecone_index = PC.from_existing_index(index_name, embeddings, pc)\n",
    "\n"
   ]
  },
  {
   "cell_type": "code",
   "execution_count": 45,
   "id": "d9b07ade",
   "metadata": {},
   "outputs": [],
   "source": [
    "for i, t in zip(range(len(text_chunk)), text_chunk):\n",
    "   query_result = embeddings.embed_query(t.page_content)\n",
    "   index.upsert(\n",
    "   vectors=[\n",
    "        {\n",
    "            \"id\": str(i),  # Convert i to a string\n",
    "            \"values\": query_result, \n",
    "            \"metadata\": {\"text\":str(text_chunk[i].page_content)} # meta data as dic\n",
    "        }\n",
    "    ],\n",
    "    namespace=\"real\" \n",
    ")"
   ]
  },
  {
   "cell_type": "code",
   "execution_count": 60,
   "id": "0d2ae84e",
   "metadata": {},
   "outputs": [],
   "source": [
    "# Embed the query text\n",
    "def embed_query(query, embeddings):\n",
    "    query_embedding = embeddings.embed_query(query)\n",
    "    return query_embedding"
   ]
  },
  {
   "cell_type": "code",
   "execution_count": 66,
   "id": "cf7bc664",
   "metadata": {},
   "outputs": [],
   "source": [
    "# Perform a similarity search in the Pinecone index\n",
    "def similarity_search(query_embedding, pinecone_index, top_k=5):\n",
    "    results = pinecone_index.similarity_search(query_embedding, top_k)\n",
    "    return results"
   ]
  },
  {
   "cell_type": "code",
   "execution_count": 62,
   "id": "9dba2dc8",
   "metadata": {},
   "outputs": [],
   "source": [
    "\n",
    "\n",
    "# Define your query text\n",
    "query_text = \"What are Allergies?\"\n",
    "query_embedding = embed_query(query_text, embeddings)\n"
   ]
  },
  {
   "cell_type": "code",
   "execution_count": 68,
   "id": "9985fcdf",
   "metadata": {},
   "outputs": [],
   "source": [
    "\n",
    "# Perform the similarity search\n",
    "#search_results = similarity_search(query_embedding, pinecone_index, 3)\n"
   ]
  },
  {
   "cell_type": "code",
   "execution_count": 70,
   "id": "9ded8dbc",
   "metadata": {},
   "outputs": [
    {
     "data": {
      "text/plain": [
       "<langchain_community.vectorstores.pinecone.Pinecone at 0x17e64a3d0>"
      ]
     },
     "execution_count": 70,
     "metadata": {},
     "output_type": "execute_result"
    }
   ],
   "source": [
    "\n",
    "#If we already have an index we can load it like this\n",
    "docsearch=PC.from_existing_index(index_name, embeddings)\n",
    "docsearch"
   ]
  },
  {
   "cell_type": "code",
   "execution_count": null,
   "id": "e560f6a4",
   "metadata": {},
   "outputs": [],
   "source": [
    "\n",
    "query = \"What are Allergies\"\n",
    "\n",
    "docs=docsearch.similarity_search(query, k=3)\n",
    "\n",
    "print(\"Result\", docs)"
   ]
  }
 ],
 "metadata": {
  "kernelspec": {
   "display_name": "Python 3 (ipykernel)",
   "language": "python",
   "name": "python3"
  },
  "language_info": {
   "codemirror_mode": {
    "name": "ipython",
    "version": 3
   },
   "file_extension": ".py",
   "mimetype": "text/x-python",
   "name": "python",
   "nbconvert_exporter": "python",
   "pygments_lexer": "ipython3",
   "version": "3.11.5"
  }
 },
 "nbformat": 4,
 "nbformat_minor": 5
}
